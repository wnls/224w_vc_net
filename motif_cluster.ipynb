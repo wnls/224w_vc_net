{
 "cells": [
  {
   "cell_type": "code",
   "execution_count": null,
   "metadata": {},
   "outputs": [],
   "source": [
    "import networkx as nx\n",
    "import numpy as np\n",
    "import random as rnd\n",
    "from pylab import *\n",
    "import scipy\n",
    "import matplotlib.pyplot as plt\n",
    "from sklearn.cluster import KMeans\n",
    "from sklearn.cluster import SpectralClustering\n",
    "from itertools import combinations, permutations"
   ]
  },
  {
   "cell_type": "code",
   "execution_count": null,
   "metadata": {},
   "outputs": [],
   "source": [
    "edge_weights_file = \"data/Gid_motif_weitghts_8.txt\"\n",
    "f = open(edge_weights_file, \"r\")\n",
    "se = set()\n",
    "for line in f:\n",
    "    s,d,w = [int(i) for i in line.strip().split()]\n",
    "    se.add(s)\n",
    "    se.add(d)\n",
    "new_old_idx_arr = sorted(list(se))\n",
    "old_new_idx_dict = {}\n",
    "for new,old in enumerate(new_old_idx_arr):\n",
    "    old_new_idx_dict[old] = new"
   ]
  },
  {
   "cell_type": "code",
   "execution_count": null,
   "metadata": {},
   "outputs": [],
   "source": [
    "def adjacency_weight(edge_weights_file):\n",
    "    l = len(new_old_idx_arr)\n",
    "    A_matrix = np.zeros((l,l))\n",
    "    f = open(edge_weights_file,\"r\")\n",
    "    for line in f:\n",
    "        s, d, w = [int(i) for i in line.strip().split()]\n",
    "        A_matrix[old_new_idx_dict[s]][old_new_idx_dict[d]] = w\n",
    "#     print A_matrix.shape\n",
    "    return A_matrix"
   ]
  },
  {
   "cell_type": "code",
   "execution_count": null,
   "metadata": {},
   "outputs": [],
   "source": [
    "def get_laplacian(adjacency):\n",
    "    laplacian = np.zeros(adjacency.shape)\n",
    "    laplacian=(-1)*adjacency\n",
    "    for i in range(adjacency.shape[0]):\n",
    "        degree=sum(adjacency[i])\n",
    "        laplacian[i][i]=degree\n",
    "#     print laplacian[1]\n",
    "    return laplacian"
   ]
  },
  {
   "cell_type": "code",
   "execution_count": null,
   "metadata": {},
   "outputs": [],
   "source": [
    "def get_degree(adjacency):\n",
    "    D = np.zeros(adjacency.shape)\n",
    "    for i in range(adjacency.shape[0]):\n",
    "        degree=sum(adjacency[i])\n",
    "        D[i][i]=degree\n",
    "#     print D[0][0],D[1][1]\n",
    "    return D"
   ]
  },
  {
   "cell_type": "code",
   "execution_count": null,
   "metadata": {},
   "outputs": [],
   "source": [
    "def second_eigenvector(L,D):\n",
    "    \n",
    "    temp = np.zeros(D.shape)\n",
    "    np.fill_diagonal(temp, 1/ (D.diagonal()**0.5))\n",
    "    L_norm = np.dot(temp, L).dot(temp)\n",
    "    w,v = np.linalg.eigh(L_norm)\n",
    "\n",
    "    second_v = v[:,1]\n",
    "\n",
    "    return second_v, temp"
   ]
  },
  {
   "cell_type": "code",
   "execution_count": null,
   "metadata": {},
   "outputs": [],
   "source": [
    "# def compute_vol(Adjacency, node_pair):\n",
    "#     count = 0\n",
    "#     for i in range(len(node_pair)):\n",
    "#         node1 = node_pair[i][0]\n",
    "#         node2 = node_pair[i][1]\n",
    "#         if Adjacency[node1][node2] != 0 and Adjacency[node2][node1] != 0:\n",
    "#             for node_number in range(len(sigma)):\n",
    "#                 if node_number == node1 or node_number == node2:\n",
    "#                     continue\n",
    "#                 temp_node = sigma[node_number]\n",
    "#                 if Adjacency[node1][temp_node] != 0 and Adjacency[node2][temp_node] != 0:\n",
    "#                     if (not(Adjacency[temp_node][node1])) and (not(Adjacency[temp_node][node2])):\n",
    "#                         count = count + 1\n",
    "\n",
    "#         elif Adjacency[node1][node2] != 0 and (not(Adjacency[node2][node1])) != 0:\n",
    "#             for node_number in range(len(sigma)):\n",
    "#                 if node_number == node1 or node_number == node2:\n",
    "#                     continue\n",
    "#                 temp_node = sigma[node_number]\n",
    "#                 if Adjacency[node1][temp_node] and (not(Adjacency[node2][temp_node])):\n",
    "#                     if Adjacency[temp_node][node1] and Adjacency[temp_node][node2]:\n",
    "#                         count = count + 1\n",
    "#     count = int(count / 2)\n",
    "#     return count"
   ]
  },
  {
   "cell_type": "code",
   "execution_count": null,
   "metadata": {},
   "outputs": [],
   "source": [
    "# def compute_cut(Adjacency, sigma, sigma_other):\n",
    "#     node_pair = list(permutations(sigma, 2))\n",
    "#     count1 = 0\n",
    "#     count2 = 0\n",
    "#     for number1 in range(len(node_pair)):\n",
    "#         node1 = node_pair[number1][0]\n",
    "#         node2 = node_pair[number1][1]\n",
    "#         for number2 in range(len(sigma_other)):\n",
    "#             node3 = sigma_other[number2]\n",
    "#             if Adjacency[node1][node2] != 0 and Adjacency[node2][node1] != 0:\n",
    "#                 if Adjacency[node1][node3] != 0 and Adjacency[node2][node3] != 0:\n",
    "#                     if Adjacency[node3][node1] == 0 and Adjacency[node3][node2] == 0:\n",
    "#                         count1 = count1 + 1\n",
    "\n",
    "#             elif Adjacency[node1][node2] != 0 and Adjacency[node2][node1] == 0:\n",
    "#                 if Adjacency[node1][node3] != 0 and Adjacency[node2][node3] == 0:\n",
    "#                     if Adjacency[node3][node1] != 0 and Adjacency[node3][node2] != 0:\n",
    "#                         count1 = count1 + 1\n",
    "\n",
    "#     node_pair_other = list(permutations(sigma_other, 2))\n",
    "#     for number3 in range(len(node_pair_other)):\n",
    "#         node1 = node_pair_other[number3][0]\n",
    "#         node2 = node_pair_other[number3][1]\n",
    "#         for number4 in range(len(sigma)):\n",
    "#             node3 = sigma[number4]\n",
    "#             if Adjacency[node1][node2] != 0 and Adjacency[node2][node1] != 0:\n",
    "#                 if Adjacency[node1][node3] != 0 and Adjacency[node2][node3] != 0:\n",
    "#                     if Adjacency[node3][node1] == 0 and Adjacency[node3][node2] == 0:\n",
    "#                         count2 = count2 + 1\n",
    "\n",
    "#             elif Adjacency[node1][node2] != 0 and Adjacency[node2][node1] == 0:\n",
    "#                 if Adjacency[node1][node3] != 0 and Adjacency[node2][node3] == 0:\n",
    "#                     if Adjacency[node3][node1] != 0 and Adjacency[node3][node2] != 0:\n",
    "#                         count2 = count2 + 1\n",
    "#     cutM = count1 + count2\n",
    "#     return cutM"
   ]
  },
  {
   "cell_type": "code",
   "execution_count": null,
   "metadata": {},
   "outputs": [],
   "source": [
    "# def compute_conductance(Adjacency, sigma):\n",
    "#     print sigma\n",
    "#     sigma_other = []\n",
    "#     for i in range(len(Adjacency)):\n",
    "#         if i in sigma:\n",
    "#             continue\n",
    "#         sigma_other.append(i)\n",
    "#     [m, n] = Adjacency.shape\n",
    "#     print sigma_other\n",
    "#     node_pair = list(permutations(sigma, 2))\n",
    "#     vol_S = compute_vol(Adjacency, node_pair)\n",
    "\n",
    "#     node_pair_other = list(permutations(sigma, 2))\n",
    "#     vol_S_other = compute_vol(Adjacency, node_pair_other)\n",
    "\n",
    "#     cutM = compute_cut(Adjacency, sigma, sigma_other)\n",
    "#     print cutM, vol_S, vol_S_other\n",
    "#     conductance = cutM / (min(vol_S, vol_S_other))\n",
    "#     return conductance"
   ]
  },
  {
   "cell_type": "code",
   "execution_count": null,
   "metadata": {},
   "outputs": [],
   "source": [
    "def main():\n",
    "    adjacency = adjacency_weight(edge_weights_file)\n",
    "    D = get_degree(adjacency)\n",
    "    L = get_laplacian(adjacency)\n",
    "    \n",
    "    lamda_two,D_2_1 = second_eigenvector(L,D)\n",
    "    lamda_two = np.array(lamda_two)\n",
    "    f = np.dot(D_2_1, lamda_two)\n",
    "\n",
    "    sort_number = np.argsort(f)\n",
    "    for sigma_number in range(len(sort_number)):\n",
    "        if sigma_number != 0:\n",
    "            continue\n",
    "        sigma = []\n",
    "        for i in range(5):\n",
    "            sigma.append(sort_number[i]) \n",
    "#         print sigma\n",
    "        conductance = compute_conductance(adjacency, sigma)\n",
    "        print conductance"
   ]
  },
  {
   "cell_type": "code",
   "execution_count": null,
   "metadata": {},
   "outputs": [],
   "source": [
    "main()"
   ]
  },
  {
   "cell_type": "code",
   "execution_count": null,
   "metadata": {},
   "outputs": [],
   "source": [
    "adjacency = adjacency_weight(edge_weights_file)"
   ]
  },
  {
   "cell_type": "code",
   "execution_count": null,
   "metadata": {},
   "outputs": [],
   "source": [
    "print adjacency[10][8]==adjacency[8][10]"
   ]
  },
  {
   "cell_type": "code",
   "execution_count": null,
   "metadata": {},
   "outputs": [],
   "source": [
    "clustering = SpectralClustering(n_clusters=9,\n",
    "             assign_labels=\"discretize\",random_state=0).fit(adjacency)"
   ]
  },
  {
   "cell_type": "code",
   "execution_count": null,
   "metadata": {},
   "outputs": [],
   "source": [
    "result = clustering.labels_\n",
    "print result\n",
    "print result.shape\n",
    "\n",
    "result_orig_idx = {}\n",
    "for new, c in enumerate(result):\n",
    "    old = new_old_idx_arr[new]\n",
    "    result_orig_idx[old] = c\n",
    "print result_orig_idx"
   ]
  },
  {
   "cell_type": "code",
   "execution_count": null,
   "metadata": {},
   "outputs": [],
   "source": [
    "result_community = {}\n",
    "for k,v in result_orig_idx.iteritems():\n",
    "    if v not in result_community:\n",
    "        result_community[v] = []\n",
    "    result_community[v].append(k)\n",
    "print result_community"
   ]
  },
  {
   "cell_type": "code",
   "execution_count": null,
   "metadata": {},
   "outputs": [],
   "source": [
    "for v in result_community:\n",
    "    print \"community %d has %d nodes\"% (v,len(result_community[v]))"
   ]
  },
  {
   "cell_type": "code",
   "execution_count": null,
   "metadata": {},
   "outputs": [],
   "source": [
    "clustering = SpectralClustering(n_clusters=4,\n",
    "             assign_labels=\"discretize\",random_state=0).fit(adjacency)"
   ]
  },
  {
   "cell_type": "code",
   "execution_count": null,
   "metadata": {},
   "outputs": [],
   "source": [
    "result = clustering.labels_\n",
    "print result\n",
    "\n",
    "result_orig_idx = {}\n",
    "for new, c in enumerate(result):\n",
    "    old = new_old_idx_arr[new]\n",
    "    result_orig_idx[old] = c\n",
    "print result_orig_idx"
   ]
  },
  {
   "cell_type": "code",
   "execution_count": null,
   "metadata": {},
   "outputs": [],
   "source": [
    "result_community = {}\n",
    "for k,v in result_orig_idx.iteritems():\n",
    "    if v not in result_community:\n",
    "        result_community[v] = []\n",
    "    result_community[v].append(k)\n",
    "print result_community"
   ]
  },
  {
   "cell_type": "code",
   "execution_count": null,
   "metadata": {},
   "outputs": [],
   "source": [
    "print \"Motif 8:\"\n",
    "for v in result_community:\n",
    "    print \"community %d has %d nodes\"% (v,len(result_community[v]))"
   ]
  },
  {
   "cell_type": "code",
   "execution_count": null,
   "metadata": {},
   "outputs": [],
   "source": [
    "def get_result():\n",
    "    adjacency = adjacency_weight(edge_weights_file)\n",
    "    print adjacency[0]\n",
    "    \n",
    "    clustering = SpectralClustering(n_clusters=4,\n",
    "         assign_labels=\"discretize\",random_state=0).fit(adjacency)\n",
    "    result = clustering.labels_\n",
    "\n",
    "    result_orig_idx = {}\n",
    "    for new, c in enumerate(result):\n",
    "        old = new_old_idx_arr[new]\n",
    "        result_orig_idx[old] = c\n",
    "#         print result_orig_idx\n",
    "    result_community = {}\n",
    "    \n",
    "    for k,v in result_orig_idx.iteritems():\n",
    "        if v not in result_community:\n",
    "            result_community[v] = []\n",
    "        result_community[v].append(k)\n",
    "#         print result_community\n",
    "\n",
    "    print \"Motif13 with 4 communities\"\n",
    "    for v in result_community:\n",
    "        print \"community %d has %d nodes\"% (v,len(result_community[v]))\n",
    "\n",
    "    with open(\"Motif13_with_4_communities.txt\",'w') as file:\n",
    "        with open(\"data/investor_list.txt\",'r') as f1:\n",
    "            for v in result_community:\n",
    "                file.write(\"***********************************************************\"+'\\n')\n",
    "                file.write(\"community %d has %d nodes\"% (v,len(result_community[v])) + '\\n')\n",
    "                for idx in result_community[v]: \n",
    "                    f1.seek(0)\n",
    "                    file.write(str(idx) +' '+ str(f1.readlines()[idx]))"
   ]
  },
  {
   "cell_type": "code",
   "execution_count": null,
   "metadata": {},
   "outputs": [],
   "source": [
    "get_result()"
   ]
  },
  {
   "cell_type": "code",
   "execution_count": null,
   "metadata": {},
   "outputs": [],
   "source": []
  }
 ],
 "metadata": {
  "kernelspec": {
   "display_name": "Python 2",
   "language": "python",
   "name": "python2"
  },
  "language_info": {
   "codemirror_mode": {
    "name": "ipython",
    "version": 2
   },
   "file_extension": ".py",
   "mimetype": "text/x-python",
   "name": "python",
   "nbconvert_exporter": "python",
   "pygments_lexer": "ipython2",
   "version": "2.7.15"
  }
 },
 "nbformat": 4,
 "nbformat_minor": 2
}
