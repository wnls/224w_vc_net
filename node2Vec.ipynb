{
 "cells": [
  {
   "cell_type": "code",
   "execution_count": null,
   "metadata": {},
   "outputs": [],
   "source": [
    "import networkx as nx\n",
    "import numpy as np\n",
    "import matplotlib.pyplot as plt\n",
    "from pylab import *\n",
    "import random"
   ]
  },
  {
   "cell_type": "code",
   "execution_count": null,
   "metadata": {},
   "outputs": [],
   "source": [
    "def dis(a,b,ax=1):\n",
    "    return np.linalg.norm(a-b,axis=ax);   "
   ]
  },
  {
   "cell_type": "code",
   "execution_count": null,
   "metadata": {},
   "outputs": [],
   "source": [
    "def generatenewFeature():\n",
    "    \n",
    "    with open(\"/Users/liz/Desktop/CS224W/hw3-bundle/node2vec/emb/investor_30walk.emb\") as file:\n",
    "        lines = file.readlines()\n",
    "        head = lines[0]\n",
    "        numOfNodes, numOfDim = head.split(' ')\n",
    "    #     print numOfNodes,numOfDim\n",
    "    #     439,128\n",
    "\n",
    "        feature_matrix = np.zeros((int(numOfNodes),int(numOfDim)))\n",
    "        for line in lines[1:]:\n",
    "            singleNode = line.split(' ')\n",
    "            node = int(singleNode[0])\n",
    "            new_node = old_new_idx_dict[node]\n",
    "            feature_vector = []\n",
    "            for dim in singleNode[1:]:\n",
    "                dim = float(dim)\n",
    "                feature_vector.append(dim)\n",
    "            feature_matrix[new_node] = feature_vector\n",
    "    return feature_matrix"
   ]
  },
  {
   "cell_type": "code",
   "execution_count": null,
   "metadata": {},
   "outputs": [],
   "source": [
    "feature_matrix = generatenewFeature()\n",
    "print feature_matrix"
   ]
  },
  {
   "cell_type": "code",
   "execution_count": null,
   "metadata": {},
   "outputs": [],
   "source": [
    "from sklearn.cluster import KMeans"
   ]
  },
  {
   "cell_type": "code",
   "execution_count": null,
   "metadata": {},
   "outputs": [],
   "source": [
    "kmeans = KMeans(n_clusters=6, random_state=0).fit(feature_matrix)"
   ]
  },
  {
   "cell_type": "code",
   "execution_count": null,
   "metadata": {},
   "outputs": [],
   "source": [
    "result = kmeans.labels_\n",
    "print result"
   ]
  },
  {
   "cell_type": "code",
   "execution_count": null,
   "metadata": {},
   "outputs": [],
   "source": [
    "import pandas as pd"
   ]
  },
  {
   "cell_type": "code",
   "execution_count": null,
   "metadata": {},
   "outputs": [],
   "source": [
    "feat_cols = [ 'pixel'+str(i) for i in range(feature_matrix.shape[1]) ]\n",
    "\n",
    "df = pd.DataFrame(feature_matrix,columns=feat_cols)\n",
    "df['label'] = result\n",
    "df['label'] = df['label'].apply(lambda i: str(i))\n",
    "\n",
    "feature_matrix_walk10, result = None, None\n",
    "\n",
    "print 'Size of the dataframe: {}'.format(df.shape)"
   ]
  },
  {
   "cell_type": "code",
   "execution_count": null,
   "metadata": {},
   "outputs": [],
   "source": [
    "from sklearn.decomposition import PCA\n",
    "\n",
    "pca = PCA(n_components=3)\n",
    "pca_result = pca.fit_transform(df[feat_cols].values)\n",
    "\n",
    "df['pca-one'] = pca_result[:,0]\n",
    "df['pca-two'] = pca_result[:,1] \n",
    "df['pca-three'] = pca_result[:,2]\n",
    "\n",
    "print 'Explained variation per principal component: {}'.format(pca.explained_variance_ratio_)"
   ]
  },
  {
   "cell_type": "code",
   "execution_count": null,
   "metadata": {},
   "outputs": [],
   "source": [
    "from ggplot import *\n",
    "\n",
    "chart = ggplot( df.loc[:,:], aes(x='pca-one', y='pca-two', z='pca-three',color='label') ) \\\n",
    "        + geom_point(size=75,alpha=0.8) \\\n",
    "        + ggtitle(\"First and second Principal Components\")\n",
    "chart"
   ]
  },
  {
   "cell_type": "code",
   "execution_count": null,
   "metadata": {},
   "outputs": [],
   "source": [
    "edge_weights_file = \"data/investor_network_undirected_weights.txt\"\n",
    "f = open(edge_weights_file, \"r\")\n",
    "se = set()\n",
    "for line in f:\n",
    "    s,d,w = [int(i) for i in line.strip().split()]\n",
    "    se.add(s)\n",
    "    se.add(d)\n",
    "new_old_idx_arr = sorted(list(se))\n",
    "old_new_idx_dict = {}\n",
    "for new,old in enumerate(new_old_idx_arr):\n",
    "    old_new_idx_dict[old] = new"
   ]
  },
  {
   "cell_type": "code",
   "execution_count": null,
   "metadata": {},
   "outputs": [],
   "source": [
    "result_orig_idx = {}\n",
    "for new, c in enumerate(result):\n",
    "    old = new_old_idx_arr[new]\n",
    "    result_orig_idx[old] = c\n",
    "print result_orig_idx"
   ]
  },
  {
   "cell_type": "code",
   "execution_count": null,
   "metadata": {},
   "outputs": [],
   "source": [
    "result_community = {}\n",
    "for k,v in result_orig_idx.iteritems():\n",
    "    if v not in result_community:\n",
    "        result_community[v] = []\n",
    "    result_community[v].append(k)\n",
    "print result_community "
   ]
  },
  {
   "cell_type": "code",
   "execution_count": null,
   "metadata": {},
   "outputs": [],
   "source": [
    "for v in result_community:\n",
    "    print \"community %d has %d nodes\"% (v,len(result_community[v]))"
   ]
  },
  {
   "cell_type": "code",
   "execution_count": null,
   "metadata": {},
   "outputs": [],
   "source": [
    "import community_layout as layout\n",
    "pos = layout.community_layout(G_nx, result_orig_idx)\n",
    "nx.draw_networkx_nodes(G_nx, pos, node_size=50, node_color=list(result_orig_idx.values()), cmap = plt.get_cmap('jet'))\n",
    "nx.draw_networkx_edges(G_nx, pos, alpha=0.1)\n",
    "# plt.savefig('node2vec_8.png')\n",
    "plt.show()"
   ]
  },
  {
   "cell_type": "code",
   "execution_count": null,
   "metadata": {},
   "outputs": [],
   "source": [
    "with open(\"node2vec_12_10_result.txt\",'w') as file:\n",
    "    with open(\"data/investor_list.txt\",'r') as f1:\n",
    "        for v in result_community:\n",
    "            file.write(\"***********************************************************\"+'\\n')\n",
    "            file.write(\"community %d has %d nodes\"% (v,len(result_community[v])) + '\\n')\n",
    "            for idx in result_community[v]: \n",
    "                f1.seek(0)\n",
    "                file.write(str(idx) +' '+ str(f1.readlines()[idx]))"
   ]
  },
  {
   "cell_type": "code",
   "execution_count": null,
   "metadata": {},
   "outputs": [],
   "source": [
    "G_nx = nx.Graph()\n",
    "node_list = []\n",
    "investor_list = []\n",
    "node_size_list = []\n",
    "weights_dict = {}\n",
    "transactions_startup2vc = {}"
   ]
  },
  {
   "cell_type": "code",
   "execution_count": null,
   "metadata": {},
   "outputs": [],
   "source": [
    "def construct_graph(network):\n",
    "    if network == \"investor\":\n",
    "        node_list_file = \"data/investor_list.txt\"\n",
    "        edge_list_file = \"data/investor_network_undirected_unweighted.txt\"\n",
    "\n",
    "    elif network == \"startup\":\n",
    "        node_list_file = \"data/startup_list.txt\"\n",
    "        edge_list_file = \"data/startup_network_undirected_unweighted.txt\"\n",
    "\n",
    "    f = open(node_list_file, \"r\")\n",
    "    for line in f:\n",
    "        name, w = line.strip().rsplit(' ', 1)\n",
    "        node_list.append(name)\n",
    "        node_size_list.append(int(w))\n",
    "\n",
    "    if network == \"startup\":\n",
    "        f = open(\"data/investor_list.txt\", \"r\")\n",
    "        for line in f:\n",
    "            name, w = line.strip().rsplit(' ', 1)\n",
    "            investor_list.append(name)\n",
    "\n",
    "        f = open(\"data/transactions.csv\", \"r\")\n",
    "        csv_reader = csv.reader(f, delimiter=\",\", quotechar='\"')\n",
    "        for vc, startup, round, time in csv_reader:\n",
    "            transactions_startup2vc[startup] = vc\n",
    "\n",
    "    global G_nx\n",
    "    if edge_list_file.endswith(\"txt\"):\n",
    "        f = open(edge_list_file, \"r\")\n",
    "        f.readline()\n",
    "        f.readline()\n",
    "        f.readline()\n",
    "        for line in f:\n",
    "            s, d = [int(i) for i in line.strip().split()]\n",
    "            G_nx.add_node(s, name=node_list[s])\n",
    "            G_nx.add_node(d, name=node_list[d])\n",
    "\n",
    "            G_nx.add_edge(s, d)\n",
    "\n",
    "    print(\"nodes\", G_nx.number_of_nodes(), \"edges\", G_nx.number_of_edges())"
   ]
  },
  {
   "cell_type": "code",
   "execution_count": null,
   "metadata": {},
   "outputs": [],
   "source": [
    "construct_graph(\"investor\")"
   ]
  },
  {
   "cell_type": "code",
   "execution_count": null,
   "metadata": {},
   "outputs": [],
   "source": []
  }
 ],
 "metadata": {
  "kernelspec": {
   "display_name": "Python 2",
   "language": "python",
   "name": "python2"
  },
  "language_info": {
   "codemirror_mode": {
    "name": "ipython",
    "version": 2
   },
   "file_extension": ".py",
   "mimetype": "text/x-python",
   "name": "python",
   "nbconvert_exporter": "python",
   "pygments_lexer": "ipython2",
   "version": "2.7.15"
  }
 },
 "nbformat": 4,
 "nbformat_minor": 2
}
