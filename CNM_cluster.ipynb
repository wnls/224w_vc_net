{
 "cells": [
  {
   "cell_type": "code",
   "execution_count": 4,
   "metadata": {},
   "outputs": [],
   "source": [
    "import snap\n",
    "import numpy as np"
   ]
  },
  {
   "cell_type": "code",
   "execution_count": 53,
   "metadata": {},
   "outputs": [],
   "source": [
    "def detectCommunity_CNM(graph,is_directed = False,is_weighted = False):  \n",
    "    if not is_weighted and is_directed:\n",
    "        FIn = snap.TFIn(graph)\n",
    "        G1 = snap.TNGraph.Load(FIn)\n",
    "    elif not is_weighted and not is_directed:\n",
    "        FIn = snap.TFIn(graph)\n",
    "        G1 = snap.TUNGraph.Load(FIn)\n",
    "    \n",
    "    print G1.GetNodes(), G1.GetEdges()\n",
    "    \n",
    "    for NI in G1.Nodes():\n",
    "        if NI.GetDeg()==0:\n",
    "            G1.DelNode(NI.GetId())\n",
    "            \n",
    "    print G1.GetNodes(), G1.GetEdges()       \n",
    "    CmtyV = snap.TCnComV()\n",
    "    modularity = snap.CommunityCNM(G1, CmtyV) \n",
    "    print \"The modularity of the network is %f\" % modularity\n",
    "    print \"The number of communities is %d\" % CmtyV.Len()"
   ]
  },
  {
   "cell_type": "code",
   "execution_count": 54,
   "metadata": {},
   "outputs": [],
   "source": [
    "def main():\n",
    "    detectCommunity_CNM(\"data/investor_network_undirected_unweighted.graph\",False,False)"
   ]
  },
  {
   "cell_type": "code",
   "execution_count": 55,
   "metadata": {},
   "outputs": [
    {
     "name": "stdout",
     "output_type": "stream",
     "text": [
      "512 3232\n",
      "439 3232\n",
      "The modularity of the network is 0.225465\n",
      "The number of communities is 9\n"
     ]
    }
   ],
   "source": [
    "if __name__ == '__main__':\n",
    "    main()"
   ]
  },
  {
   "cell_type": "code",
   "execution_count": 67,
   "metadata": {},
   "outputs": [],
   "source": []
  }
 ],
 "metadata": {
  "kernelspec": {
   "display_name": "Python 2",
   "language": "python",
   "name": "python2"
  },
  "language_info": {
   "codemirror_mode": {
    "name": "ipython",
    "version": 2
   },
   "file_extension": ".py",
   "mimetype": "text/x-python",
   "name": "python",
   "nbconvert_exporter": "python",
   "pygments_lexer": "ipython2",
   "version": "2.7.15"
  }
 },
 "nbformat": 4,
 "nbformat_minor": 2
}
